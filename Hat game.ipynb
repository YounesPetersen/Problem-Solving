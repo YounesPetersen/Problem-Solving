{
 "cells": [
  {
   "cell_type": "code",
   "execution_count": 36,
   "id": "df41c4ae",
   "metadata": {},
   "outputs": [
    {
     "name": "stdout",
     "output_type": "stream",
     "text": [
      "398\n"
     ]
    },
    {
     "data": {
      "image/png": "[encoded data removed]",
      "text/plain": [
       "<Figure size 432x288 with 1 Axes>"
      ]
     },
     "metadata": {
      "needs_background": "light"
     },
     "output_type": "display_data"
    }
   ],
   "source": [
    "import random\n",
    "import matplotlib.pyplot as plt\n",
    "\n",
    "def play_game(total_numbers=2024, iterations=1000):\n",
    "    results = []\n",
    "    \n",
    "    for _ in range(iterations):\n",
    "        # Initialize variables\n",
    "        hat = list(range(1, total_numbers + 1))\n",
    "        while len(hat) > 1:\n",
    "            # Select and remove two random numbers\n",
    "            idx1, idx2 = random.sample(range(len(hat)), 2)\n",
    "            num1, num2 = hat[idx1], hat[idx2]\n",
    "            difference = abs(num1 - num2)\n",
    "            \n",
    "            # Remove the selected numbers and add the difference\n",
    "            hat.pop(max(idx1, idx2)) \n",
    "            hat.pop(min(idx1, idx2))\n",
    "            hat.append(difference)\n",
    "        \n",
    "        results.append(hat[0])\n",
    "    return results\n",
    "\n",
    "# Optimized execution\n",
    "results = play_game(iterations=1000)\n",
    "print(len(set(results)))\n",
    "# Plot the histogram of the resulting numbers from the optimized execution\n",
    "plt.hist(results, bins=60, alpha=0.75, color='blue')\n",
    "plt.title('Histogram of Final Numbers')\n",
    "plt.xlabel('Final Number')\n",
    "plt.ylabel('Frequency')\n",
    "plt.show()\n"
   ]
  },
  {
   "cell_type": "code",
   "execution_count": 37,
   "id": "6c29d23a",
   "metadata": {},
   "outputs": [
    {
     "name": "stdout",
     "output_type": "stream",
     "text": [
      "{1945, 1947, 1951, 1953, 1955, 1957, 1959, 1961, 1963, 1965, 1967, 1969, 1971, 1973, 1975, 1977, 1979, 1981, 1983, 1985, 1987, 1989, 1991, 1993, 1995, 1997, 1999, 2001, 2003, 2005, 2007, 2009, 2011, 2013, 2015, 2017, 2019, 2021, 2023}\n"
     ]
    },
    {
     "data": {
      "image/png": "[encoded data removed]",
      "text/plain": [
       "<Figure size 432x288 with 1 Axes>"
      ]
     },
     "metadata": {
      "needs_background": "light"
     },
     "output_type": "display_data"
    }
   ],
   "source": [
    "import matplotlib.pyplot as plt\n",
    "\n",
    "def play_custom_hat_game(starting_numbers, iterations=1000):\n",
    "    results = []\n",
    "    \n",
    "    for _ in range(iterations):\n",
    "        hat = starting_numbers.copy()\n",
    "        while len(hat) > 1:\n",
    "            draw = random.sample(hat, 2)\n",
    "            difference = abs(draw[0] - draw[1])\n",
    "            hat.remove(draw[0])\n",
    "            hat.remove(draw[1])\n",
    "            hat.append(difference)\n",
    "        \n",
    "        results.append(hat[0])\n",
    "    \n",
    "    return results\n",
    "\n",
    "starting_numbers = [1, 2008, 2009, 2010, 2011, 2012, 2013, 2014, 2015, 2016, 2017, 2018, 2019, 2020, 2021, 2022, 2023, 2024]\n",
    "results = play_custom_hat_game(starting_numbers, iterations=5000)\n",
    "# Print the results as a set to remove duplicates\n",
    "print(set(results))\n",
    "# Plot the histogram of the resulting numbers\n",
    "plt.hist(results, bins=60, alpha=0.75, color='green')\n",
    "plt.title('Histogram of Final Numbers (Custom Game)')\n",
    "plt.xlabel('Final Number')\n",
    "plt.ylabel('Frequency')\n",
    "plt.show()\n"
   ]
  }
 ],
 "metadata": {
  "kernelspec": {
   "display_name": "Python 3 (ipykernel)",
   "language": "python",
   "name": "python3"
  },
  "language_info": {
   "codemirror_mode": {
    "name": "ipython",
    "version": 3
   },
   "file_extension": ".py",
   "mimetype": "text/x-python",
   "name": "python",
   "nbconvert_exporter": "python",
   "pygments_lexer": "ipython3",
   "version": "3.9.7"
  }
 },
 "nbformat": 4,
 "nbformat_minor": 5
}
