{
 "cells": [
  {
   "cell_type": "code",
   "execution_count": 2,
   "id": "fdf8b158",
   "metadata": {},
   "outputs": [],
   "source": [
    "import sympy as sp\n",
    "from sympy.abc import m\n",
    "M = sp.solve(m**2-0.5*m-0.5, m)\n"
   ]
  },
  {
   "cell_type": "code",
   "execution_count": 16,
   "id": "7a5daab6",
   "metadata": {},
   "outputs": [],
   "source": [
    "import sympy as sp\n",
    "x, y = sp.symbols(\"x,y\")\n",
    "A = sp.Matrix([[1, 1], [M[0], M[1]]])\n",
    "b = sp.Matrix([0, 1])\n",
    "C,= sp.linsolve((A, b), x, y)\n",
    "\n",
    "def pn(n):\n",
    "    return sum(C[i]*M[i]**n for i in range(2))"
   ]
  },
  {
   "cell_type": "code",
   "execution_count": 18,
   "id": "fe2ae244",
   "metadata": {},
   "outputs": [
    {
     "data": {
      "text/latex": [
       "$\\displaystyle 0.666666666666667$"
      ],
      "text/plain": [
       "0.666666666666667"
      ]
     },
     "execution_count": 18,
     "metadata": {},
     "output_type": "execute_result"
    }
   ],
   "source": [
    "pn(2500)"
   ]
  }
 ],
 "metadata": {
  "kernelspec": {
   "display_name": "Python 3 (ipykernel)",
   "language": "python",
   "name": "python3"
  },
  "language_info": {
   "codemirror_mode": {
    "name": "ipython",
    "version": 3
   },
   "file_extension": ".py",
   "mimetype": "text/x-python",
   "name": "python",
   "nbconvert_exporter": "python",
   "pygments_lexer": "ipython3",
   "version": "3.9.7"
  }
 },
 "nbformat": 4,
 "nbformat_minor": 5
}
